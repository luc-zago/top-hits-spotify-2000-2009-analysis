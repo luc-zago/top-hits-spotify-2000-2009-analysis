{
 "cells": [
  {
   "cell_type": "code",
   "execution_count": 318,
   "id": "9e7460b2",
   "metadata": {},
   "outputs": [],
   "source": [
    "import pandas as pd\n",
    "import numpy as np\n",
    "import seaborn as sns\n",
    "import matplotlib.pyplot as plt"
   ]
  },
  {
   "cell_type": "code",
   "execution_count": 319,
   "id": "c6d0212e",
   "metadata": {},
   "outputs": [],
   "source": [
    "songs = pd.read_csv('./songs_normalize.csv')"
   ]
  },
  {
   "cell_type": "code",
   "execution_count": 320,
   "id": "4c606f3f",
   "metadata": {},
   "outputs": [],
   "source": [
    "pop_songs = songs[songs[['artist','genre']]['genre']=='pop']"
   ]
  },
  {
   "cell_type": "code",
   "execution_count": 321,
   "id": "51d58c7a",
   "metadata": {},
   "outputs": [],
   "source": [
    "artists = pop_songs[['artist']].groupby('artist').value_counts().reset_index()\n"
   ]
  },
  {
   "cell_type": "code",
   "execution_count": 322,
   "metadata": {},
   "outputs": [],
   "source": [
    "artists.columns = ['artist', 'count']"
   ]
  },
  {
   "cell_type": "code",
   "execution_count": 323,
   "id": "9dd903f3",
   "metadata": {},
   "outputs": [],
   "source": [
    "top_5 = artists[artists['count'] > 14]"
   ]
  },
  {
   "cell_type": "code",
   "execution_count": 324,
   "id": "91b2de37",
   "metadata": {},
   "outputs": [
    {
     "data": {
      "text/plain": [
       "Text(0, 0.5, 'Qtd de músicas registradas')"
      ]
     },
     "execution_count": 324,
     "metadata": {},
     "output_type": "execute_result"
    },
    {
     "data": {
      "image/png": "[encoded data removed]",
      "text/plain": [
       "<Figure size 432x288 with 1 Axes>"
      ]
     },
     "metadata": {
      "needs_background": "light"
     },
     "output_type": "display_data"
    }
   ],
   "source": [
    "sns.barplot(x='artist', y='count', data=top_5, palette=\"rocket\")\n",
    "plt.xlabel('artistas', fontsize=15)\n",
    "plt.ylabel('Qtd de músicas registradas', fontsize=15)"
   ]
  }
 ],
 "metadata": {
  "interpreter": {
   "hash": "916dbcbb3f70747c44a77c7bcd40155683ae19c65e1c03b4aa3499c5328201f1"
  },
  "kernelspec": {
   "display_name": "Python 3.8.10 64-bit",
   "language": "python",
   "name": "python3"
  },
  "language_info": {
   "codemirror_mode": {
    "name": "ipython",
    "version": 3
   },
   "file_extension": ".py",
   "mimetype": "text/x-python",
   "name": "python",
   "nbconvert_exporter": "python",
   "pygments_lexer": "ipython3",
   "version": "3.8.10"
  }
 },
 "nbformat": 4,
 "nbformat_minor": 5
}
