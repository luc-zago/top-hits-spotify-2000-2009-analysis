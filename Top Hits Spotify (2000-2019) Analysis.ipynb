{
 "cells": [
  {
   "cell_type": "code",
   "execution_count": 2,
   "id": "9e7460b2",
   "metadata": {},
   "outputs": [],
   "source": [
    "import pandas as pd\n",
    "import numpy as np"
   ]
  },
  {
   "cell_type": "code",
   "execution_count": 3,
   "id": "c6d0212e",
   "metadata": {},
   "outputs": [],
   "source": [
    "songs = pd.read_csv('./songs_normalize.csv')"
   ]
  },
  {
   "cell_type": "code",
   "execution_count": 4,
   "id": "113bf969",
   "metadata": {},
   "outputs": [
    {
     "data": {
      "text/html": [
       "<div>\n",
       "<style scoped>\n",
       "    .dataframe tbody tr th:only-of-type {\n",
       "        vertical-align: middle;\n",
       "    }\n",
       "\n",
       "    .dataframe tbody tr th {\n",
       "        vertical-align: top;\n",
       "    }\n",
       "\n",
       "    .dataframe thead th {\n",
       "        text-align: right;\n",
       "    }\n",
       "</style>\n",
       "<table border=\"1\" class=\"dataframe\">\n",
       "  <thead>\n",
       "    <tr style=\"text-align: right;\">\n",
       "      <th></th>\n",
       "      <th>artist</th>\n",
       "      <th>song</th>\n",
       "      <th>duration_ms</th>\n",
       "      <th>explicit</th>\n",
       "      <th>year</th>\n",
       "      <th>popularity</th>\n",
       "      <th>danceability</th>\n",
       "      <th>energy</th>\n",
       "      <th>key</th>\n",
       "      <th>loudness</th>\n",
       "      <th>mode</th>\n",
       "      <th>speechiness</th>\n",
       "      <th>acousticness</th>\n",
       "      <th>instrumentalness</th>\n",
       "      <th>liveness</th>\n",
       "      <th>valence</th>\n",
       "      <th>tempo</th>\n",
       "      <th>genre</th>\n",
       "    </tr>\n",
       "  </thead>\n",
       "  <tbody>\n",
       "    <tr>\n",
       "      <th>0</th>\n",
       "      <td>Britney Spears</td>\n",
       "      <td>Oops!...I Did It Again</td>\n",
       "      <td>211160</td>\n",
       "      <td>False</td>\n",
       "      <td>2000</td>\n",
       "      <td>77</td>\n",
       "      <td>0.751</td>\n",
       "      <td>0.834</td>\n",
       "      <td>1</td>\n",
       "      <td>-5.444</td>\n",
       "      <td>0</td>\n",
       "      <td>0.0437</td>\n",
       "      <td>0.3000</td>\n",
       "      <td>0.000018</td>\n",
       "      <td>0.3550</td>\n",
       "      <td>0.894</td>\n",
       "      <td>95.053</td>\n",
       "      <td>pop</td>\n",
       "    </tr>\n",
       "    <tr>\n",
       "      <th>1</th>\n",
       "      <td>blink-182</td>\n",
       "      <td>All The Small Things</td>\n",
       "      <td>167066</td>\n",
       "      <td>False</td>\n",
       "      <td>1999</td>\n",
       "      <td>79</td>\n",
       "      <td>0.434</td>\n",
       "      <td>0.897</td>\n",
       "      <td>0</td>\n",
       "      <td>-4.918</td>\n",
       "      <td>1</td>\n",
       "      <td>0.0488</td>\n",
       "      <td>0.0103</td>\n",
       "      <td>0.000000</td>\n",
       "      <td>0.6120</td>\n",
       "      <td>0.684</td>\n",
       "      <td>148.726</td>\n",
       "      <td>rock, pop</td>\n",
       "    </tr>\n",
       "    <tr>\n",
       "      <th>2</th>\n",
       "      <td>Faith Hill</td>\n",
       "      <td>Breathe</td>\n",
       "      <td>250546</td>\n",
       "      <td>False</td>\n",
       "      <td>1999</td>\n",
       "      <td>66</td>\n",
       "      <td>0.529</td>\n",
       "      <td>0.496</td>\n",
       "      <td>7</td>\n",
       "      <td>-9.007</td>\n",
       "      <td>1</td>\n",
       "      <td>0.0290</td>\n",
       "      <td>0.1730</td>\n",
       "      <td>0.000000</td>\n",
       "      <td>0.2510</td>\n",
       "      <td>0.278</td>\n",
       "      <td>136.859</td>\n",
       "      <td>pop, country</td>\n",
       "    </tr>\n",
       "    <tr>\n",
       "      <th>3</th>\n",
       "      <td>Bon Jovi</td>\n",
       "      <td>It's My Life</td>\n",
       "      <td>224493</td>\n",
       "      <td>False</td>\n",
       "      <td>2000</td>\n",
       "      <td>78</td>\n",
       "      <td>0.551</td>\n",
       "      <td>0.913</td>\n",
       "      <td>0</td>\n",
       "      <td>-4.063</td>\n",
       "      <td>0</td>\n",
       "      <td>0.0466</td>\n",
       "      <td>0.0263</td>\n",
       "      <td>0.000013</td>\n",
       "      <td>0.3470</td>\n",
       "      <td>0.544</td>\n",
       "      <td>119.992</td>\n",
       "      <td>rock, metal</td>\n",
       "    </tr>\n",
       "    <tr>\n",
       "      <th>4</th>\n",
       "      <td>*NSYNC</td>\n",
       "      <td>Bye Bye Bye</td>\n",
       "      <td>200560</td>\n",
       "      <td>False</td>\n",
       "      <td>2000</td>\n",
       "      <td>65</td>\n",
       "      <td>0.614</td>\n",
       "      <td>0.928</td>\n",
       "      <td>8</td>\n",
       "      <td>-4.806</td>\n",
       "      <td>0</td>\n",
       "      <td>0.0516</td>\n",
       "      <td>0.0408</td>\n",
       "      <td>0.001040</td>\n",
       "      <td>0.0845</td>\n",
       "      <td>0.879</td>\n",
       "      <td>172.656</td>\n",
       "      <td>pop</td>\n",
       "    </tr>\n",
       "  </tbody>\n",
       "</table>\n",
       "</div>"
      ],
      "text/plain": [
       "           artist                    song  duration_ms  explicit  year  \\\n",
       "0  Britney Spears  Oops!...I Did It Again       211160     False  2000   \n",
       "1       blink-182    All The Small Things       167066     False  1999   \n",
       "2      Faith Hill                 Breathe       250546     False  1999   \n",
       "3        Bon Jovi            It's My Life       224493     False  2000   \n",
       "4          *NSYNC             Bye Bye Bye       200560     False  2000   \n",
       "\n",
       "   popularity  danceability  energy  key  loudness  mode  speechiness  \\\n",
       "0          77         0.751   0.834    1    -5.444     0       0.0437   \n",
       "1          79         0.434   0.897    0    -4.918     1       0.0488   \n",
       "2          66         0.529   0.496    7    -9.007     1       0.0290   \n",
       "3          78         0.551   0.913    0    -4.063     0       0.0466   \n",
       "4          65         0.614   0.928    8    -4.806     0       0.0516   \n",
       "\n",
       "   acousticness  instrumentalness  liveness  valence    tempo         genre  \n",
       "0        0.3000          0.000018    0.3550    0.894   95.053           pop  \n",
       "1        0.0103          0.000000    0.6120    0.684  148.726     rock, pop  \n",
       "2        0.1730          0.000000    0.2510    0.278  136.859  pop, country  \n",
       "3        0.0263          0.000013    0.3470    0.544  119.992   rock, metal  \n",
       "4        0.0408          0.001040    0.0845    0.879  172.656           pop  "
      ]
     },
     "execution_count": 4,
     "metadata": {},
     "output_type": "execute_result"
    }
   ],
   "source": [
    "songs.head()"
   ]
  },
  {
   "cell_type": "code",
   "execution_count": 5,
   "id": "550117be",
   "metadata": {},
   "outputs": [
    {
     "data": {
      "text/plain": [
       "Rihanna           25\n",
       "Drake             23\n",
       "Eminem            21\n",
       "Calvin Harris     20\n",
       "Britney Spears    19\n",
       "                  ..\n",
       "Sidney Samson      1\n",
       "Cam’ron            1\n",
       "Elvis Presley      1\n",
       "Lucenzo            1\n",
       "Blanco Brown       1\n",
       "Name: artist, Length: 835, dtype: int64"
      ]
     },
     "execution_count": 5,
     "metadata": {},
     "output_type": "execute_result"
    }
   ],
   "source": [
    "songs['artist'].value_counts()"
   ]
  },
  {
   "cell_type": "code",
   "execution_count": 6,
   "id": "85d4d14e",
   "metadata": {},
   "outputs": [],
   "source": [
    "popularidade = songs['popularity'].unique()"
   ]
  },
  {
   "cell_type": "code",
   "execution_count": 7,
   "id": "ee797c6b",
   "metadata": {},
   "outputs": [
    {
     "data": {
      "text/plain": [
       "array([ 0,  1,  2,  3,  4,  6,  7,  8, 11, 16, 17, 18, 21, 24, 26, 27, 28,\n",
       "       30, 32, 33, 34, 35, 36, 37, 38, 39, 40, 41, 42, 43, 44, 45, 46, 47,\n",
       "       48, 49, 50, 51, 52, 53, 54, 55, 56, 57, 58, 59, 60, 61, 62, 63, 64,\n",
       "       65, 66, 67, 68, 69, 70, 71, 72, 73, 74, 75, 76, 77, 78, 79, 80, 81,\n",
       "       82, 83, 84, 85, 86, 87, 88, 89])"
      ]
     },
     "execution_count": 7,
     "metadata": {},
     "output_type": "execute_result"
    }
   ],
   "source": [
    "np.sort(popularidade)"
   ]
  },
  {
   "cell_type": "code",
   "execution_count": 8,
   "id": "d4672f2f",
   "metadata": {},
   "outputs": [],
   "source": [
    "keys = songs['key'].unique()"
   ]
  },
  {
   "cell_type": "code",
   "execution_count": 9,
   "id": "54dc2872",
   "metadata": {},
   "outputs": [
    {
     "data": {
      "text/plain": [
       "array([ 0,  1,  2,  3,  4,  5,  6,  7,  8,  9, 10, 11])"
      ]
     },
     "execution_count": 9,
     "metadata": {},
     "output_type": "execute_result"
    }
   ],
   "source": [
    "np.sort(keys)"
   ]
  },
  {
   "cell_type": "code",
   "execution_count": 10,
   "id": "0c293bc3",
   "metadata": {},
   "outputs": [
    {
     "data": {
      "text/html": [
       "<div>\n",
       "<style scoped>\n",
       "    .dataframe tbody tr th:only-of-type {\n",
       "        vertical-align: middle;\n",
       "    }\n",
       "\n",
       "    .dataframe tbody tr th {\n",
       "        vertical-align: top;\n",
       "    }\n",
       "\n",
       "    .dataframe thead th {\n",
       "        text-align: right;\n",
       "    }\n",
       "</style>\n",
       "<table border=\"1\" class=\"dataframe\">\n",
       "  <thead>\n",
       "    <tr style=\"text-align: right;\">\n",
       "      <th></th>\n",
       "      <th>artist</th>\n",
       "      <th>song</th>\n",
       "      <th>duration_ms</th>\n",
       "      <th>explicit</th>\n",
       "      <th>year</th>\n",
       "      <th>popularity</th>\n",
       "      <th>danceability</th>\n",
       "      <th>energy</th>\n",
       "      <th>key</th>\n",
       "      <th>loudness</th>\n",
       "      <th>mode</th>\n",
       "      <th>speechiness</th>\n",
       "      <th>acousticness</th>\n",
       "      <th>instrumentalness</th>\n",
       "      <th>liveness</th>\n",
       "      <th>valence</th>\n",
       "      <th>tempo</th>\n",
       "      <th>genre</th>\n",
       "    </tr>\n",
       "  </thead>\n",
       "  <tbody>\n",
       "    <tr>\n",
       "      <th>44</th>\n",
       "      <td>Missy Elliott</td>\n",
       "      <td>Hot Boyz</td>\n",
       "      <td>215466</td>\n",
       "      <td>True</td>\n",
       "      <td>1998</td>\n",
       "      <td>49</td>\n",
       "      <td>0.727</td>\n",
       "      <td>0.445</td>\n",
       "      <td>1</td>\n",
       "      <td>-11.241</td>\n",
       "      <td>1</td>\n",
       "      <td>0.291</td>\n",
       "      <td>0.339</td>\n",
       "      <td>0.0</td>\n",
       "      <td>0.18</td>\n",
       "      <td>0.527</td>\n",
       "      <td>81.125</td>\n",
       "      <td>hip hop, pop, R&amp;B</td>\n",
       "    </tr>\n",
       "  </tbody>\n",
       "</table>\n",
       "</div>"
      ],
      "text/plain": [
       "           artist      song  duration_ms  explicit  year  popularity  \\\n",
       "44  Missy Elliott  Hot Boyz       215466      True  1998          49   \n",
       "\n",
       "    danceability  energy  key  loudness  mode  speechiness  acousticness  \\\n",
       "44         0.727   0.445    1   -11.241     1        0.291         0.339   \n",
       "\n",
       "    instrumentalness  liveness  valence   tempo              genre  \n",
       "44               0.0      0.18    0.527  81.125  hip hop, pop, R&B  "
      ]
     },
     "execution_count": 10,
     "metadata": {},
     "output_type": "execute_result"
    }
   ],
   "source": [
    "songs[songs['year']==1998]"
   ]
  },
  {
   "cell_type": "code",
   "execution_count": 11,
   "id": "7892c78a",
   "metadata": {},
   "outputs": [
    {
     "data": {
      "text/plain": [
       "array(['pop', 'rock, pop', 'pop, country', 'rock, metal',\n",
       "       'hip hop, pop, R&B', 'hip hop', 'pop, rock', 'pop, R&B',\n",
       "       'Dance/Electronic', 'pop, Dance/Electronic',\n",
       "       'rock, Folk/Acoustic, easy listening', 'metal', 'hip hop, pop',\n",
       "       'R&B', 'pop, latin', 'Folk/Acoustic, rock',\n",
       "       'pop, easy listening, Dance/Electronic', 'rock',\n",
       "       'rock, blues, latin', 'pop, rock, metal', 'rock, pop, metal',\n",
       "       'hip hop, R&B', 'pop, Folk/Acoustic', 'set()',\n",
       "       'hip hop, pop, latin', 'hip hop, Dance/Electronic',\n",
       "       'hip hop, pop, rock', 'World/Traditional, Folk/Acoustic',\n",
       "       'Folk/Acoustic, pop', 'rock, easy listening',\n",
       "       'World/Traditional, hip hop', 'hip hop, pop, R&B, latin',\n",
       "       'rock, blues', 'rock, R&B, Folk/Acoustic, pop', 'latin',\n",
       "       'pop, R&B, Dance/Electronic', 'World/Traditional, rock',\n",
       "       'pop, rock, Dance/Electronic', 'pop, easy listening, jazz',\n",
       "       'rock, Dance/Electronic', 'World/Traditional, pop, Folk/Acoustic',\n",
       "       'country', 'hip hop, pop, Dance/Electronic',\n",
       "       'hip hop, pop, country', 'World/Traditional, rock, pop',\n",
       "       'World/Traditional, pop', 'hip hop, pop, R&B, Dance/Electronic',\n",
       "       'pop, R&B, easy listening', 'rock, pop, Dance/Electronic',\n",
       "       'Folk/Acoustic, rock, pop', 'rock, pop, metal, Dance/Electronic',\n",
       "       'pop, rock, Folk/Acoustic', 'country, latin', 'rock, classical',\n",
       "       'rock, Folk/Acoustic, pop', 'hip hop, rock, pop', 'easy listening',\n",
       "       'hip hop, latin, Dance/Electronic', 'hip hop, country'],\n",
       "      dtype=object)"
      ]
     },
     "execution_count": 11,
     "metadata": {},
     "output_type": "execute_result"
    }
   ],
   "source": [
    "songs['genre'].unique()"
   ]
  },
  {
   "cell_type": "code",
   "execution_count": 12,
   "id": "e94fae53",
   "metadata": {},
   "outputs": [
    {
     "data": {
      "text/plain": [
       "pop                                      428\n",
       "hip hop, pop                             277\n",
       "hip hop, pop, R&B                        244\n",
       "pop, Dance/Electronic                    221\n",
       "pop, R&B                                 178\n",
       "hip hop                                  124\n",
       "hip hop, pop, Dance/Electronic            78\n",
       "rock                                      58\n",
       "rock, pop                                 43\n",
       "Dance/Electronic                          41\n",
       "rock, metal                               38\n",
       "pop, latin                                28\n",
       "pop, rock                                 26\n",
       "set()                                     22\n",
       "hip hop, Dance/Electronic                 16\n",
       "latin                                     15\n",
       "pop, rock, metal                          14\n",
       "hip hop, pop, latin                       14\n",
       "R&B                                       13\n",
       "pop, rock, Dance/Electronic               13\n",
       "country                                   10\n",
       "metal                                      9\n",
       "hip hop, pop, rock                         9\n",
       "rock, pop, Dance/Electronic                8\n",
       "pop, Folk/Acoustic                         8\n",
       "pop, country                               8\n",
       "pop, R&B, Dance/Electronic                 6\n",
       "rock, pop, metal                           4\n",
       "hip hop, pop, R&B, Dance/Electronic        3\n",
       "hip hop, R&B                               3\n",
       "hip hop, pop, R&B, latin                   3\n",
       "World/Traditional, pop, Folk/Acoustic      2\n",
       "pop, rock, Folk/Acoustic                   2\n",
       "pop, easy listening, jazz                  2\n",
       "World/Traditional, rock                    2\n",
       "rock, blues, latin                         2\n",
       "World/Traditional, rock, pop               2\n",
       "hip hop, rock, pop                         2\n",
       "rock, blues                                2\n",
       "Folk/Acoustic, pop                         2\n",
       "World/Traditional, hip hop                 2\n",
       "rock, pop, metal, Dance/Electronic         1\n",
       "rock, classical                            1\n",
       "country, latin                             1\n",
       "hip hop, latin, Dance/Electronic           1\n",
       "rock, Folk/Acoustic, pop                   1\n",
       "easy listening                             1\n",
       "Folk/Acoustic, rock, pop                   1\n",
       "rock, easy listening                       1\n",
       "pop, R&B, easy listening                   1\n",
       "World/Traditional, pop                     1\n",
       "hip hop, pop, country                      1\n",
       "rock, Dance/Electronic                     1\n",
       "rock, R&B, Folk/Acoustic, pop              1\n",
       "World/Traditional, Folk/Acoustic           1\n",
       "pop, easy listening, Dance/Electronic      1\n",
       "Folk/Acoustic, rock                        1\n",
       "rock, Folk/Acoustic, easy listening        1\n",
       "hip hop, country                           1\n",
       "Name: genre, dtype: int64"
      ]
     },
     "execution_count": 12,
     "metadata": {},
     "output_type": "execute_result"
    }
   ],
   "source": [
    "songs['genre'].value_counts()"
   ]
  },
  {
   "cell_type": "code",
   "execution_count": 17,
   "id": "ac40a6f0",
   "metadata": {},
   "outputs": [
    {
     "data": {
      "text/plain": [
       "Britney Spears    19\n",
       "Katy Perry        16\n",
       "Taylor Swift      16\n",
       "P!nk              15\n",
       "Ariana Grande     14\n",
       "                  ..\n",
       "Kris Allen         1\n",
       "Big Brovaz         1\n",
       "A1                 1\n",
       "INNA               1\n",
       "BTS                1\n",
       "Name: artist, Length: 135, dtype: int64"
      ]
     },
     "execution_count": 17,
     "metadata": {},
     "output_type": "execute_result"
    }
   ],
   "source": [
    "songs[songs['genre']=='pop']['artist'].value_counts()"
   ]
  },
  {
   "cell_type": "code",
   "execution_count": 224,
   "id": "4c606f3f",
   "metadata": {},
   "outputs": [],
   "source": [
    "pop_songs = songs[songs[['artist','genre']]['genre']=='pop']"
   ]
  },
  {
   "cell_type": "code",
   "execution_count": 297,
   "id": "51d58c7a",
   "metadata": {},
   "outputs": [],
   "source": [
    "artists = pop_songs[['artist']].groupby('artist').value_counts().reset_index()\n"
   ]
  },
  {
   "cell_type": "code",
   "execution_count": 298,
   "metadata": {},
   "outputs": [],
   "source": [
    "artists.columns = ['artist', 'count']"
   ]
  },
  {
   "cell_type": "code",
   "execution_count": 306,
   "id": "9dd903f3",
   "metadata": {},
   "outputs": [],
   "source": [
    "top_5 = artists[artists['count'] > 14]"
   ]
  },
  {
   "cell_type": "code",
   "execution_count": 304,
   "id": "bf4a733b",
   "metadata": {},
   "outputs": [],
   "source": [
    "artists_df = pd.DataFrame(top_5)"
   ]
  },
  {
   "cell_type": "code",
   "execution_count": 284,
   "id": "a0d23f55",
   "metadata": {},
   "outputs": [
    {
     "data": {
      "text/html": [
       "<div>\n",
       "<style scoped>\n",
       "    .dataframe tbody tr th:only-of-type {\n",
       "        vertical-align: middle;\n",
       "    }\n",
       "\n",
       "    .dataframe tbody tr th {\n",
       "        vertical-align: top;\n",
       "    }\n",
       "\n",
       "    .dataframe thead th {\n",
       "        text-align: right;\n",
       "    }\n",
       "</style>\n",
       "<table border=\"1\" class=\"dataframe\">\n",
       "  <thead>\n",
       "    <tr style=\"text-align: right;\">\n",
       "      <th></th>\n",
       "      <th>artist</th>\n",
       "    </tr>\n",
       "    <tr>\n",
       "      <th>artist</th>\n",
       "      <th></th>\n",
       "    </tr>\n",
       "  </thead>\n",
       "  <tbody>\n",
       "    <tr>\n",
       "      <th>*NSYNC</th>\n",
       "      <td>4</td>\n",
       "    </tr>\n",
       "    <tr>\n",
       "      <th>5 Seconds of Summer</th>\n",
       "      <td>3</td>\n",
       "    </tr>\n",
       "    <tr>\n",
       "      <th>A1</th>\n",
       "      <td>1</td>\n",
       "    </tr>\n",
       "    <tr>\n",
       "      <th>Adam Lambert</th>\n",
       "      <td>2</td>\n",
       "    </tr>\n",
       "    <tr>\n",
       "      <th>Akon</th>\n",
       "      <td>8</td>\n",
       "    </tr>\n",
       "    <tr>\n",
       "      <th>...</th>\n",
       "      <td>...</td>\n",
       "    </tr>\n",
       "    <tr>\n",
       "      <th>Train</th>\n",
       "      <td>2</td>\n",
       "    </tr>\n",
       "    <tr>\n",
       "      <th>Vengaboys</th>\n",
       "      <td>1</td>\n",
       "    </tr>\n",
       "    <tr>\n",
       "      <th>Westlife</th>\n",
       "      <td>4</td>\n",
       "    </tr>\n",
       "    <tr>\n",
       "      <th>Will Young</th>\n",
       "      <td>2</td>\n",
       "    </tr>\n",
       "    <tr>\n",
       "      <th>t.A.T.u.</th>\n",
       "      <td>1</td>\n",
       "    </tr>\n",
       "  </tbody>\n",
       "</table>\n",
       "<p>135 rows × 1 columns</p>\n",
       "</div>"
      ],
      "text/plain": [
       "                     artist\n",
       "artist                     \n",
       "*NSYNC                    4\n",
       "5 Seconds of Summer       3\n",
       "A1                        1\n",
       "Adam Lambert              2\n",
       "Akon                      8\n",
       "...                     ...\n",
       "Train                     2\n",
       "Vengaboys                 1\n",
       "Westlife                  4\n",
       "Will Young                2\n",
       "t.A.T.u.                  1\n",
       "\n",
       "[135 rows x 1 columns]"
      ]
     },
     "execution_count": 284,
     "metadata": {},
     "output_type": "execute_result"
    }
   ],
   "source": [
    "artists_df"
   ]
  },
  {
   "cell_type": "code",
   "execution_count": 314,
   "id": "586e76be",
   "metadata": {},
   "outputs": [],
   "source": [
    "import seaborn as sns\n",
    "import matplotlib.pyplot as plt"
   ]
  },
  {
   "cell_type": "code",
   "execution_count": 317,
   "id": "91b2de37",
   "metadata": {},
   "outputs": [
    {
     "data": {
      "text/plain": [
       "Text(0, 0.5, 'Qtd de músicas registradas')"
      ]
     },
     "execution_count": 317,
     "metadata": {},
     "output_type": "execute_result"
    },
    {
     "data": {
      "image/png": "[encoded data removed]",
      "text/plain": [
       "<Figure size 432x288 with 1 Axes>"
      ]
     },
     "metadata": {
      "needs_background": "light"
     },
     "output_type": "display_data"
    }
   ],
   "source": [
    "sns.barplot(x='artist', y='count', data=top_5, palette=\"rocket\")\n",
    "plt.xlabel('artistas', fontsize=15)\n",
    "plt.ylabel('Qtd de músicas registradas', fontsize=15)"
   ]
  }
 ],
 "metadata": {
  "interpreter": {
   "hash": "916dbcbb3f70747c44a77c7bcd40155683ae19c65e1c03b4aa3499c5328201f1"
  },
  "kernelspec": {
   "display_name": "Python 3.8.10 64-bit",
   "language": "python",
   "name": "python3"
  },
  "language_info": {
   "codemirror_mode": {
    "name": "ipython",
    "version": 3
   },
   "file_extension": ".py",
   "mimetype": "text/x-python",
   "name": "python",
   "nbconvert_exporter": "python",
   "pygments_lexer": "ipython3",
   "version": "3.8.10"
  }
 },
 "nbformat": 4,
 "nbformat_minor": 5
}
